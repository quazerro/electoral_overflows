{
 "cells": [
  {
   "cell_type": "code",
   "execution_count": 3,
   "metadata": {},
   "outputs": [],
   "source": [
    "import pandas as pd\n",
    "import plotly.plotly as py\n",
    "import plotly.graph_objs as go\n",
    "import numpy as np\n",
    "\n",
    "from plotly.offline import download_plotlyjs, init_notebook_mode, plot, iplot\n",
    "from tqdm import tqdm_notebook"
   ]
  },
  {
   "cell_type": "code",
   "execution_count": 4,
   "metadata": {},
   "outputs": [
    {
     "data": {
      "text/html": [
       "<script type=\"text/javascript\">window.PlotlyConfig = {MathJaxConfig: 'local'};</script><script type=\"text/javascript\">if (window.MathJax) {MathJax.Hub.Config({SVG: {font: \"STIX-Web\"}});}</script><script>requirejs.config({paths: { 'plotly': ['https://cdn.plot.ly/plotly-latest.min']},});if(!window._Plotly) {require(['plotly'],function(plotly) {window._Plotly=plotly;});}</script>"
      ],
      "text/vnd.plotly.v1+html": [
       "<script type=\"text/javascript\">window.PlotlyConfig = {MathJaxConfig: 'local'};</script><script type=\"text/javascript\">if (window.MathJax) {MathJax.Hub.Config({SVG: {font: \"STIX-Web\"}});}</script><script>requirejs.config({paths: { 'plotly': ['https://cdn.plot.ly/plotly-latest.min']},});if(!window._Plotly) {require(['plotly'],function(plotly) {window._Plotly=plotly;});}</script>"
      ]
     },
     "metadata": {},
     "output_type": "display_data"
    }
   ],
   "source": [
    "init_notebook_mode(connected=True)"
   ]
  },
  {
   "cell_type": "code",
   "execution_count": 40,
   "metadata": {},
   "outputs": [
    {
     "name": "stdout",
     "output_type": "stream",
     "text": [
      "(29608, 68)\n"
     ]
    },
    {
     "data": {
      "text/html": [
       "<div>\n",
       "<style scoped>\n",
       "    .dataframe tbody tr th:only-of-type {\n",
       "        vertical-align: middle;\n",
       "    }\n",
       "\n",
       "    .dataframe tbody tr th {\n",
       "        vertical-align: top;\n",
       "    }\n",
       "\n",
       "    .dataframe thead th {\n",
       "        text-align: right;\n",
       "    }\n",
       "</style>\n",
       "<table border=\"1\" class=\"dataframe\">\n",
       "  <thead>\n",
       "    <tr style=\"text-align: right;\">\n",
       "      <th></th>\n",
       "      <th>district_number</th>\n",
       "      <th>district_gen_numeric</th>\n",
       "      <th>district_general</th>\n",
       "      <th>district_location</th>\n",
       "      <th>1.К-сть одержаних бюлетенів</th>\n",
       "      <th>2.К-сть виборців, внесених до списку_x</th>\n",
       "      <th>3.К-сть виборців, внесених до витягу для голос. за місцем перебув.</th>\n",
       "      <th>4.К-сть невикор. бюлетенів</th>\n",
       "      <th>5.К-сть виборців, які отримали бюлетені у приміщ.</th>\n",
       "      <th>6.К-сть виборців, які отримали бюлетені за місцем перебув.</th>\n",
       "      <th>...</th>\n",
       "      <th>ЗеленськийВолодимир_inflow_ТимошенкоЮлія</th>\n",
       "      <th>ЗеленськийВолодимир_inflow_other_cands</th>\n",
       "      <th>ПорошенкоПетро_inflow_others</th>\n",
       "      <th>ПорошенкоПетро_inflow_БойкоЮрій</th>\n",
       "      <th>ПорошенкоПетро_inflow_ВілкулОлександр</th>\n",
       "      <th>ПорошенкоПетро_inflow_ГриценкоАнатолій</th>\n",
       "      <th>ПорошенкоПетро_inflow_ЛяшкоОлег</th>\n",
       "      <th>ПорошенкоПетро_inflow_СмешкоІгор</th>\n",
       "      <th>ПорошенкоПетро_inflow_ТимошенкоЮлія</th>\n",
       "      <th>ПорошенкоПетро_inflow_other_cands</th>\n",
       "    </tr>\n",
       "  </thead>\n",
       "  <tbody>\n",
       "    <tr>\n",
       "      <th>0</th>\n",
       "      <td>50130</td>\n",
       "      <td>11</td>\n",
       "      <td>Вінницька область, Територіальний виборчий окр...</td>\n",
       "      <td>Школа-ліцей, спортивна зала</td>\n",
       "      <td>1696</td>\n",
       "      <td>1694</td>\n",
       "      <td>103.0</td>\n",
       "      <td>602</td>\n",
       "      <td>1004</td>\n",
       "      <td>90</td>\n",
       "      <td>...</td>\n",
       "      <td>117.521042</td>\n",
       "      <td>34.074148</td>\n",
       "      <td>129.0</td>\n",
       "      <td>8.272545</td>\n",
       "      <td>2.843687</td>\n",
       "      <td>18.871743</td>\n",
       "      <td>11.633267</td>\n",
       "      <td>31.022044</td>\n",
       "      <td>43.689379</td>\n",
       "      <td>12.667335</td>\n",
       "    </tr>\n",
       "    <tr>\n",
       "      <th>1</th>\n",
       "      <td>50131</td>\n",
       "      <td>11</td>\n",
       "      <td>Вінницька область, Територіальний виборчий окр...</td>\n",
       "      <td>ДНЗ \"Казка\", спортивна зала</td>\n",
       "      <td>2128</td>\n",
       "      <td>2095</td>\n",
       "      <td>15.0</td>\n",
       "      <td>822</td>\n",
       "      <td>1295</td>\n",
       "      <td>11</td>\n",
       "      <td>...</td>\n",
       "      <td>140.054795</td>\n",
       "      <td>48.657534</td>\n",
       "      <td>162.0</td>\n",
       "      <td>11.589041</td>\n",
       "      <td>8.136986</td>\n",
       "      <td>23.917808</td>\n",
       "      <td>11.342466</td>\n",
       "      <td>36.246575</td>\n",
       "      <td>52.520548</td>\n",
       "      <td>18.246575</td>\n",
       "    </tr>\n",
       "    <tr>\n",
       "      <th>2</th>\n",
       "      <td>50132</td>\n",
       "      <td>11</td>\n",
       "      <td>Вінницька область, Територіальний виборчий окр...</td>\n",
       "      <td>ПСП \"Агрофірма Батьківщина\", приіщення контори</td>\n",
       "      <td>1296</td>\n",
       "      <td>1281</td>\n",
       "      <td>4.0</td>\n",
       "      <td>484</td>\n",
       "      <td>808</td>\n",
       "      <td>4</td>\n",
       "      <td>...</td>\n",
       "      <td>74.846361</td>\n",
       "      <td>27.347709</td>\n",
       "      <td>80.0</td>\n",
       "      <td>8.840970</td>\n",
       "      <td>2.156334</td>\n",
       "      <td>10.350404</td>\n",
       "      <td>7.547170</td>\n",
       "      <td>20.485175</td>\n",
       "      <td>22.425876</td>\n",
       "      <td>8.194070</td>\n",
       "    </tr>\n",
       "    <tr>\n",
       "      <th>3</th>\n",
       "      <td>50133</td>\n",
       "      <td>11</td>\n",
       "      <td>Вінницька область, Територіальний виборчий окр...</td>\n",
       "      <td>школа, спортзал</td>\n",
       "      <td>2448</td>\n",
       "      <td>2422</td>\n",
       "      <td>14.0</td>\n",
       "      <td>933</td>\n",
       "      <td>1504</td>\n",
       "      <td>11</td>\n",
       "      <td>...</td>\n",
       "      <td>140.350474</td>\n",
       "      <td>50.428958</td>\n",
       "      <td>185.0</td>\n",
       "      <td>13.768606</td>\n",
       "      <td>7.259811</td>\n",
       "      <td>23.531800</td>\n",
       "      <td>15.270636</td>\n",
       "      <td>46.562923</td>\n",
       "      <td>57.828146</td>\n",
       "      <td>20.778078</td>\n",
       "    </tr>\n",
       "    <tr>\n",
       "      <th>4</th>\n",
       "      <td>50134</td>\n",
       "      <td>11</td>\n",
       "      <td>Вінницька область, Територіальний виборчий окр...</td>\n",
       "      <td>звіргосподарство, кабінет головного бухгалтера</td>\n",
       "      <td>240</td>\n",
       "      <td>222</td>\n",
       "      <td>0.0</td>\n",
       "      <td>108</td>\n",
       "      <td>132</td>\n",
       "      <td>0</td>\n",
       "      <td>...</td>\n",
       "      <td>16.400000</td>\n",
       "      <td>5.046154</td>\n",
       "      <td>16.0</td>\n",
       "      <td>0.246154</td>\n",
       "      <td>0.246154</td>\n",
       "      <td>2.953846</td>\n",
       "      <td>0.738462</td>\n",
       "      <td>3.446154</td>\n",
       "      <td>6.400000</td>\n",
       "      <td>1.969231</td>\n",
       "    </tr>\n",
       "  </tbody>\n",
       "</table>\n",
       "<p>5 rows × 68 columns</p>\n",
       "</div>"
      ],
      "text/plain": [
       "   district_number  district_gen_numeric  \\\n",
       "0            50130                    11   \n",
       "1            50131                    11   \n",
       "2            50132                    11   \n",
       "3            50133                    11   \n",
       "4            50134                    11   \n",
       "\n",
       "                                    district_general  \\\n",
       "0  Вінницька область, Територіальний виборчий окр...   \n",
       "1  Вінницька область, Територіальний виборчий окр...   \n",
       "2  Вінницька область, Територіальний виборчий окр...   \n",
       "3  Вінницька область, Територіальний виборчий окр...   \n",
       "4  Вінницька область, Територіальний виборчий окр...   \n",
       "\n",
       "                                district_location  \\\n",
       "0                     Школа-ліцей, спортивна зала   \n",
       "1                     ДНЗ \"Казка\", спортивна зала   \n",
       "2  ПСП \"Агрофірма Батьківщина\", приіщення контори   \n",
       "3                                 школа, спортзал   \n",
       "4  звіргосподарство, кабінет головного бухгалтера   \n",
       "\n",
       "   1.К-сть одержаних бюлетенів  2.К-сть виборців, внесених до списку_x  \\\n",
       "0                         1696                                    1694   \n",
       "1                         2128                                    2095   \n",
       "2                         1296                                    1281   \n",
       "3                         2448                                    2422   \n",
       "4                          240                                     222   \n",
       "\n",
       "   3.К-сть виборців, внесених до витягу для голос. за місцем перебув.  \\\n",
       "0                                              103.0                    \n",
       "1                                               15.0                    \n",
       "2                                                4.0                    \n",
       "3                                               14.0                    \n",
       "4                                                0.0                    \n",
       "\n",
       "   4.К-сть невикор. бюлетенів  \\\n",
       "0                         602   \n",
       "1                         822   \n",
       "2                         484   \n",
       "3                         933   \n",
       "4                         108   \n",
       "\n",
       "   5.К-сть виборців, які отримали бюлетені у приміщ.  \\\n",
       "0                                               1004   \n",
       "1                                               1295   \n",
       "2                                                808   \n",
       "3                                               1504   \n",
       "4                                                132   \n",
       "\n",
       "   6.К-сть виборців, які отримали бюлетені за місцем перебув.  \\\n",
       "0                                                 90            \n",
       "1                                                 11            \n",
       "2                                                  4            \n",
       "3                                                 11            \n",
       "4                                                  0            \n",
       "\n",
       "                 ...                  \\\n",
       "0                ...                   \n",
       "1                ...                   \n",
       "2                ...                   \n",
       "3                ...                   \n",
       "4                ...                   \n",
       "\n",
       "   ЗеленськийВолодимир_inflow_ТимошенкоЮлія  \\\n",
       "0                                117.521042   \n",
       "1                                140.054795   \n",
       "2                                 74.846361   \n",
       "3                                140.350474   \n",
       "4                                 16.400000   \n",
       "\n",
       "   ЗеленськийВолодимир_inflow_other_cands  ПорошенкоПетро_inflow_others  \\\n",
       "0                               34.074148                         129.0   \n",
       "1                               48.657534                         162.0   \n",
       "2                               27.347709                          80.0   \n",
       "3                               50.428958                         185.0   \n",
       "4                                5.046154                          16.0   \n",
       "\n",
       "   ПорошенкоПетро_inflow_БойкоЮрій  ПорошенкоПетро_inflow_ВілкулОлександр  \\\n",
       "0                         8.272545                               2.843687   \n",
       "1                        11.589041                               8.136986   \n",
       "2                         8.840970                               2.156334   \n",
       "3                        13.768606                               7.259811   \n",
       "4                         0.246154                               0.246154   \n",
       "\n",
       "   ПорошенкоПетро_inflow_ГриценкоАнатолій ПорошенкоПетро_inflow_ЛяшкоОлег  \\\n",
       "0                               18.871743                       11.633267   \n",
       "1                               23.917808                       11.342466   \n",
       "2                               10.350404                        7.547170   \n",
       "3                               23.531800                       15.270636   \n",
       "4                                2.953846                        0.738462   \n",
       "\n",
       "   ПорошенкоПетро_inflow_СмешкоІгор  ПорошенкоПетро_inflow_ТимошенкоЮлія  \\\n",
       "0                         31.022044                            43.689379   \n",
       "1                         36.246575                            52.520548   \n",
       "2                         20.485175                            22.425876   \n",
       "3                         46.562923                            57.828146   \n",
       "4                          3.446154                             6.400000   \n",
       "\n",
       "   ПорошенкоПетро_inflow_other_cands  \n",
       "0                          12.667335  \n",
       "1                          18.246575  \n",
       "2                           8.194070  \n",
       "3                          20.778078  \n",
       "4                           1.969231  \n",
       "\n",
       "[5 rows x 68 columns]"
      ]
     },
     "execution_count": 40,
     "metadata": {},
     "output_type": "execute_result"
    }
   ],
   "source": [
    "df_all = pd.read_csv('00_data/elections_round2_all_v2.csv')\n",
    "print(df_all.shape)\n",
    "df_all.head()"
   ]
  },
  {
   "cell_type": "code",
   "execution_count": 41,
   "metadata": {},
   "outputs": [],
   "source": [
    "#credentials needed\n",
    "py.sign_in('okuchma', '1X4AOENqX8gafp4qNWcS')"
   ]
  },
  {
   "cell_type": "code",
   "execution_count": 42,
   "metadata": {},
   "outputs": [],
   "source": [
    "candidates = ['ЗеленськийВолодимир','ПорошенкоПетро']\n",
    "\n",
    "base_cols = ['district_number', 'district_gen_numeric']\n",
    "\n",
    "main_cands = ['БойкоЮрій',\n",
    "             'ВілкулОлександр',\n",
    "             'ГриценкоАнатолій',\n",
    "             'ЛяшкоОлег',\n",
    "             'СмешкоІгор',\n",
    "             'ТимошенкоЮлія',\n",
    "             'other_cands']"
   ]
  },
  {
   "cell_type": "code",
   "execution_count": 43,
   "metadata": {},
   "outputs": [
    {
     "data": {
      "text/plain": [
       "[('ЗеленськийВолодимир', 0),\n",
       " ('ПорошенкоПетро', 1),\n",
       " ('БойкоЮрій', 2),\n",
       " ('ВілкулОлександр', 3),\n",
       " ('ГриценкоАнатолій', 4),\n",
       " ('ЛяшкоОлег', 5),\n",
       " ('СмешкоІгор', 6),\n",
       " ('ТимошенкоЮлія', 7),\n",
       " ('other_cands', 8),\n",
       " ('не голосували', 9),\n",
       " ('ЗеленськийВолодимир', 10),\n",
       " ('ПорошенкоПетро', 11),\n",
       " ('не голосували', 12)]"
      ]
     },
     "execution_count": 43,
     "metadata": {},
     "output_type": "execute_result"
    }
   ],
   "source": [
    "no_vote = 'не голосували'\n",
    "indices = [i for i in range(len(candidates+main_cands+[no_vote]+candidates+[no_vote]))]\n",
    "indices = [i for i in zip([outflow for outflow in (candidates+main_cands+[no_vote])]+\n",
    "                          [inflow for inflow in (candidates+[no_vote])],indices)]\n",
    "\n",
    "indices"
   ]
  },
  {
   "cell_type": "code",
   "execution_count": 56,
   "metadata": {},
   "outputs": [
    {
     "name": "stdout",
     "output_type": "stream",
     "text": [
      "['Володимир Зеленський', 'Петро Порошенко', 'Юрій Бойко', 'Олександр Вілкул', 'Анатолій Гриценко', 'Олег Ляшко', 'Ігор Смешко', 'Юлія Тимошенко', 'інші кандидати', 'не голосували', 'Володимир Зеленський', 'Петро Порошенко', 'не голосували']\n",
      "30 30\n"
     ]
    }
   ],
   "source": [
    "proper_names = {'ЗеленськийВолодимир':'Володимир Зеленський',\n",
    "                'ПорошенкоПетро':'Петро Порошенко',\n",
    "                'БойкоЮрій':'Юрій Бойко',\n",
    "                'ВілкулОлександр':'Олександр Вілкул',\n",
    "                'ГриценкоАнатолій':'Анатолій Гриценко',\n",
    "                'ЛяшкоОлег':'Олег Ляшко',\n",
    "                'СмешкоІгор':'Ігор Смешко',\n",
    "                'ТимошенкоЮлія':'Юлія Тимошенко',\n",
    "                'other_cands':'інші кандидати',\n",
    "                'не голосували':'не голосували'}\n",
    "\n",
    "labels = [proper_names[i[0]] for i in indices]\n",
    "print(labels)\n",
    "\n",
    "outflows = []\n",
    "for index in indices[:10]:\n",
    "    outflows += [index for i in range(3)]\n",
    "    \n",
    "inflows = [] \n",
    "for index in range(len(indices[:10])):\n",
    "    inflows += indices[-3:]\n",
    "    \n",
    "colors_dict = {'Володимир Зеленський':'#3ec258',\n",
    "               'Петро Порошенко':'#c2443e',\n",
    "               'не голосували':'#666666'}\n",
    "\n",
    "colors = [colors_dict[label] if label in colors_dict else '#ffdb83' for label in labels]\n",
    "\n",
    "print(len(outflows),len(inflows))\n",
    "source = [outflow[1] for outflow in outflows]\n",
    "target = [inflow[1] for inflow in inflows]"
   ]
  },
  {
   "cell_type": "code",
   "execution_count": 57,
   "metadata": {},
   "outputs": [
    {
     "data": {
      "text/plain": [
       "Index(['district_number', 'district_gen_numeric', 'district_general',\n",
       "       'district_location', '1.К-сть одержаних бюлетенів',\n",
       "       '2.К-сть виборців, внесених до списку_x',\n",
       "       '3.К-сть виборців, внесених до витягу для голос. за місцем перебув.',\n",
       "       '4.К-сть невикор. бюлетенів',\n",
       "       '5.К-сть виборців, які отримали бюлетені у приміщ.',\n",
       "       '6.К-сть виборців, які отримали бюлетені за місцем перебув.',\n",
       "       '7.Загальна к-сть виборців, які отримали бюлетені',\n",
       "       '8.К-сть бюлетенів, що не підлягають врахуванню',\n",
       "       '9.К-сть виборців, які взяли участь у голосуванні',\n",
       "       '10.К-сть бюлетенів, визнаних недійсними', 'ЗеленськийВолодимир_round2',\n",
       "       'ПорошенкоПетро_round2', 'Дата та час протоколу',\n",
       "       '2.К-сть виборців, внесених до списку', 'reg_voters_change',\n",
       "       'reg_voters_change_abs', 'participation_round2', 'participation_round1',\n",
       "       'ЗеленськийВолодимир', 'ПорошенкоПетро', 'БойкоЮрій', 'ВілкулОлександр',\n",
       "       'ГриценкоАнатолій', 'ЛяшкоОлег', 'СмешкоІгор', 'ТимошенкоЮлія',\n",
       "       'other_cands', 'pool_round1', 'stayed_home', 'mobilized',\n",
       "       'voted_round1', 'voted_round2', 'ЗеленськийВолодимир_stayed_home',\n",
       "       'ПорошенкоПетро_stayed_home', 'stayed_home_others',\n",
       "       'БойкоЮрій_stayed_home', 'ВілкулОлександр_stayed_home',\n",
       "       'ГриценкоАнатолій_stayed_home', 'ЛяшкоОлег_stayed_home',\n",
       "       'СмешкоІгор_stayed_home', 'ТимошенкоЮлія_stayed_home',\n",
       "       'other_cands_stayed_home', 'ЗеленськийВолодимир_mobilized',\n",
       "       'ПорошенкоПетро_mobilized', 'ЗеленськийВолодимир_outflow',\n",
       "       'ПорошенкоПетро_outflow', 'ЗеленськийВолодимир_inflow',\n",
       "       'ПорошенкоПетро_inflow', 'ЗеленськийВолодимир_inflow_others',\n",
       "       'ЗеленськийВолодимир_inflow_БойкоЮрій',\n",
       "       'ЗеленськийВолодимир_inflow_ВілкулОлександр',\n",
       "       'ЗеленськийВолодимир_inflow_ГриценкоАнатолій',\n",
       "       'ЗеленськийВолодимир_inflow_ЛяшкоОлег',\n",
       "       'ЗеленськийВолодимир_inflow_СмешкоІгор',\n",
       "       'ЗеленськийВолодимир_inflow_ТимошенкоЮлія',\n",
       "       'ЗеленськийВолодимир_inflow_other_cands',\n",
       "       'ПорошенкоПетро_inflow_others', 'ПорошенкоПетро_inflow_БойкоЮрій',\n",
       "       'ПорошенкоПетро_inflow_ВілкулОлександр',\n",
       "       'ПорошенкоПетро_inflow_ГриценкоАнатолій',\n",
       "       'ПорошенкоПетро_inflow_ЛяшкоОлег', 'ПорошенкоПетро_inflow_СмешкоІгор',\n",
       "       'ПорошенкоПетро_inflow_ТимошенкоЮлія',\n",
       "       'ПорошенкоПетро_inflow_other_cands',\n",
       "       'ЗеленськийВолодимир_inflow_ЗеленськийВолодимир',\n",
       "       'ПорошенкоПетро_inflow_ПорошенкоПетро',\n",
       "       'ЗеленськийВолодимир_inflow_ПорошенкоПетро',\n",
       "       'ПорошенкоПетро_inflow_ЗеленськийВолодимир'],\n",
       "      dtype='object')"
      ]
     },
     "execution_count": 57,
     "metadata": {},
     "output_type": "execute_result"
    }
   ],
   "source": [
    "for candidate in candidates:\n",
    "    df_all[candidate+'_inflow_'+candidate] = df_all[candidate] - df_all[candidate+'_stayed_home'] - df_all[candidate+'_outflow']\n",
    "\n",
    "df_all[candidates[0]+'_inflow_'+candidates[1]] = df_all[candidates[0]+'_inflow']\n",
    "df_all[candidates[1]+'_inflow_'+candidates[0]] = df_all[candidates[1]+'_inflow']\n",
    "\n",
    "df_all.columns"
   ]
  },
  {
   "cell_type": "code",
   "execution_count": 58,
   "metadata": {},
   "outputs": [
    {
     "name": "stdout",
     "output_type": "stream",
     "text": [
      "From candidate ЗеленськийВолодимир to candidate ЗеленськийВолодимир\n",
      "ЗеленськийВолодимир_inflow_ЗеленськийВолодимир\n",
      "5642562.290594876\n",
      "From candidate ЗеленськийВолодимир to candidate ПорошенкоПетро\n",
      "ПорошенкоПетро_inflow_ЗеленськийВолодимир\n",
      "115.70940512477289\n",
      "From candidate ЗеленськийВолодимир to candidate не голосували\n",
      "не голосували_inflow_ЗеленськийВолодимир\n",
      "1053.0\n",
      "From candidate ПорошенкоПетро to candidate ЗеленськийВолодимир\n",
      "ЗеленськийВолодимир_inflow_ПорошенкоПетро\n",
      "4746.95388360719\n",
      "From candidate ПорошенкоПетро to candidate ПорошенкоПетро\n",
      "ПорошенкоПетро_inflow_ПорошенкоПетро\n",
      "2933936.465560837\n",
      "From candidate ПорошенкоПетро to candidate не голосували\n",
      "не голосували_inflow_ПорошенкоПетро\n",
      "42258.580555555556\n",
      "From candidate БойкоЮрій to candidate ЗеленськийВолодимир\n",
      "ЗеленськийВолодимир_inflow_БойкоЮрій\n",
      "1903463.036981687\n",
      "From candidate БойкоЮрій to candidate ПорошенкоПетро\n",
      "ПорошенкоПетро_inflow_БойкоЮрій\n",
      "160537.30516586313\n",
      "From candidate БойкоЮрій to candidate не голосували\n",
      "не голосували_inflow_БойкоЮрій\n",
      "100609.06137103922\n",
      "From candidate ВілкулОлександр to candidate ЗеленськийВолодимир\n",
      "ЗеленськийВолодимир_inflow_ВілкулОлександр\n",
      "685324.4583994619\n",
      "From candidate ВілкулОлександр to candidate ПорошенкоПетро\n",
      "ПорошенкоПетро_inflow_ВілкулОлександр\n",
      "56641.59856550023\n",
      "From candidate ВілкулОлександр to candidate не голосували\n",
      "не голосували_inflow_ВілкулОлександр\n",
      "32605.922810295826\n",
      "From candidate ГриценкоАнатолій to candidate ЗеленськийВолодимир\n",
      "ЗеленськийВолодимир_inflow_ГриценкоАнатолій\n",
      "865508.7374668982\n",
      "From candidate ГриценкоАнатолій to candidate ПорошенкоПетро\n",
      "ПорошенкоПетро_inflow_ГриценкоАнатолій\n",
      "315154.86469575024\n",
      "From candidate ГриценкоАнатолій to candidate не голосували\n",
      "не голосували_inflow_ГриценкоАнатолій\n",
      "110673.21488924584\n",
      "From candidate ЛяшкоОлег to candidate ЗеленськийВолодимир\n",
      "ЗеленськийВолодимир_inflow_ЛяшкоОлег\n",
      "787254.5635800776\n",
      "From candidate ЛяшкоОлег to candidate ПорошенкоПетро\n",
      "ПорошенкоПетро_inflow_ЛяшкоОлег\n",
      "154100.89639828337\n",
      "From candidate ЛяшкоОлег to candidate не голосували\n",
      "не голосували_inflow_ЛяшкоОлег\n",
      "81691.47978358818\n",
      "From candidate СмешкоІгор to candidate ЗеленськийВолодимир\n",
      "ЗеленськийВолодимир_inflow_СмешкоІгор\n",
      "851450.974435932\n",
      "From candidate СмешкоІгор to candidate ПорошенкоПетро\n",
      "ПорошенкоПетро_inflow_СмешкоІгор\n",
      "186406.3808195217\n",
      "From candidate СмешкоІгор to candidate не голосували\n",
      "не голосували_inflow_СмешкоІгор\n",
      "90663.1523602955\n",
      "From candidate ТимошенкоЮлія to candidate ЗеленськийВолодимир\n",
      "ЗеленськийВолодимир_inflow_ТимошенкоЮлія\n",
      "1862987.5461662866\n",
      "From candidate ТимошенкоЮлія to candidate ПорошенкоПетро\n",
      "ПорошенкоПетро_inflow_ТимошенкоЮлія\n",
      "438892.76892914023\n",
      "From candidate ТимошенкоЮлія to candidate не голосували\n",
      "не голосували_inflow_ТимошенкоЮлія\n",
      "201033.4905874806\n",
      "From candidate other_cands to candidate ЗеленськийВолодимир\n",
      "ЗеленськийВолодимир_inflow_other_cands\n",
      "653691.8529265398\n",
      "From candidate other_cands to candidate ПорошенкоПетро\n",
      "ПорошенкоПетро_inflow_other_cands\n",
      "192443.59602461362\n",
      "From candidate other_cands to candidate не голосували\n",
      "не голосували_inflow_other_cands\n",
      "77786.0976424993\n",
      "From candidate не голосували to candidate ЗеленськийВолодимир\n",
      "ЗеленськийВолодимир_inflow_не голосували\n",
      "104694.76318471224\n",
      "From candidate не голосували to candidate ПорошенкоПетро\n",
      "ПорошенкоПетро_inflow_не голосували\n",
      "33482.23681528776\n",
      "From candidate не голосували to candidate не голосували\n",
      "не голосували_inflow_не голосували\n",
      "11083265.0\n"
     ]
    },
    {
     "data": {
      "text/plain": [
       "29655036.000000004"
      ]
     },
     "execution_count": 58,
     "metadata": {},
     "output_type": "execute_result"
    }
   ],
   "source": [
    "def count_values(outflow,inflow):\n",
    "    outflow_name = outflow[0].replace('_outflow','')\n",
    "    inflow_name = inflow[0].replace('_inflow','')\n",
    "    no_vote1_outflow = df_all['2.К-сть виборців, внесених до списку'].sum()-df_all['voted_round1'].sum()-df_all['mobilized'].sum()\n",
    "    \n",
    "    print(f'From candidate {outflow_name} to candidate {inflow_name}')\n",
    "    print(inflow_name+'_inflow_'+outflow_name)\n",
    "    \n",
    "    if (outflow_name==no_vote)|(inflow_name==no_vote):\n",
    "        if (outflow_name==no_vote)&(inflow_name==no_vote):\n",
    "            print(no_vote1_outflow)\n",
    "            values.append(no_vote1_outflow)\n",
    "        elif outflow_name==no_vote:\n",
    "            print(df_all[inflow_name+'_mobilized'].sum())\n",
    "            values.append(df_all[inflow_name+'_mobilized'].sum())\n",
    "        else:\n",
    "            print(df_all[outflow_name+'_stayed_home'].sum())\n",
    "            values.append(df_all[outflow_name+'_stayed_home'].sum())\n",
    "    else:\n",
    "        print(df_all[inflow_name+'_inflow_'+outflow_name].sum())\n",
    "        values.append(df_all[inflow_name+'_inflow_'+outflow_name].sum())\n",
    "    \n",
    "values = []\n",
    "for index,value in enumerate(outflows):\n",
    "    count_values(outflows[index],inflows[index])\n",
    "sum(values)"
   ]
  },
  {
   "cell_type": "code",
   "execution_count": 59,
   "metadata": {},
   "outputs": [
    {
     "data": {
      "text/plain": [
       "[0.19027332459130636,\n",
       " 3.901846725958211e-06,\n",
       " 3.550830287307693e-05,\n",
       " 0.0001600724370594994,\n",
       " 0.09893552196533624,\n",
       " 0.0014250052016647544,\n",
       " 0.06418683952977453,\n",
       " 0.005413492169284944,\n",
       " 0.003392646745431002,\n",
       " 0.023109884553822894,\n",
       " 0.001910016179562224,\n",
       " 0.001099507105986849,\n",
       " 0.02918589400690318,\n",
       " 0.01062736409073151,\n",
       " 0.003732020925189429,\n",
       " 0.02654707833030712,\n",
       " 0.00519644947988879,\n",
       " 0.002754725362113476,\n",
       " 0.02871185097991221,\n",
       " 0.00628582547731595,\n",
       " 0.0030572598988008472,\n",
       " 0.06282196204942346,\n",
       " 0.01479994052036019,\n",
       " 0.006779067494218539,\n",
       " 0.022043198764841822,\n",
       " 0.00648940692652046,\n",
       " 0.0026230316376112065,\n",
       " 0.0035304210450026845,\n",
       " 0.0011290573653421887,\n",
       " 0.3737397250166885]"
      ]
     },
     "execution_count": 59,
     "metadata": {},
     "output_type": "execute_result"
    }
   ],
   "source": [
    "values_share = [value/sum(values) for value in values]\n",
    "values_share"
   ]
  },
  {
   "cell_type": "code",
   "execution_count": 61,
   "metadata": {},
   "outputs": [
    {
     "name": "stderr",
     "output_type": "stream",
     "text": [
      "C:\\Users\\Ostap\\Anaconda3\\lib\\site-packages\\IPython\\core\\display.py:689: UserWarning:\n",
      "\n",
      "Consider using IPython.display.IFrame instead\n",
      "\n"
     ]
    },
    {
     "data": {
      "text/html": [
       "<iframe id=\"igraph\" scrolling=\"no\" style=\"border:none;\" seamless=\"seamless\" src=\"https://plot.ly/~okuchma/87.embed\" height=\"525px\" width=\"100%\"></iframe>"
      ],
      "text/plain": [
       "<plotly.tools.PlotlyDisplay object>"
      ]
     },
     "execution_count": 61,
     "metadata": {},
     "output_type": "execute_result"
    }
   ],
   "source": [
    "np_source = np.array(source)\n",
    "np_values = np.array(values)\n",
    "np_maxes = np.array([])\n",
    "\n",
    "for triplet in range(np_source.max()+1):\n",
    "    np_maxes = np.append(np_maxes,np_values[np.where(np_source==triplet)].max())\n",
    "\n",
    "color_links = np.array(['rgba(204,204,204,0.3)' for i in range(len(np_source))])\n",
    "color_links[np.where(np.isin(np_values,np_maxes))[0]]='rgba(204,204,204,1)'\n",
    "\n",
    "data = {'type':'sankey',\n",
    "       'node':{'label':labels,\n",
    "               'color':colors,\n",
    "               'pad':10,\n",
    "               'line':{'width':0},\n",
    "               'hovertemplate': \"<extra>%{value:.1%}</extra> від усіх зареєстрованих виборців\"\n",
    "              },\n",
    "       'link':{'source':source,\n",
    "              'target':target,\n",
    "              'value':values_share,\n",
    "              'color':color_links,\n",
    "              'hovertemplate': \"<extra>%{value:.2%}</extra> від усіх зареєстрованих виборців\"}\n",
    "       }\n",
    "\n",
    "fig = {'data':[data]}\n",
    "py.iplot(fig, validate=False)\n",
    "#iplot(fig, validate=False)"
   ]
  },
  {
   "cell_type": "code",
   "execution_count": 39,
   "metadata": {},
   "outputs": [
    {
     "data": {
      "application/vnd.plotly.v1+json": {
       "config": {
        "linkText": "Export to plot.ly",
        "plotlyServerURL": "https://plot.ly",
        "showLink": false
       },
       "data": [
        {
         "marker": {
          "color": [
           "rgba(62,194,88,0)",
           "rgba(194,68,62,0)"
          ]
         },
         "orientation": "h",
         "type": "bar",
         "uid": "ce750270-bb83-4382-a69b-2ec130a20380",
         "x": [
          -1313,
          -38482.580555555556
         ],
         "y": [
          "Зеленський",
          "Порошенко"
         ]
        },
        {
         "marker": {
          "color": [
           "rgba(62,194,88,0)",
           "rgba(194,68,62,0)"
          ]
         },
         "orientation": "h",
         "type": "bar",
         "uid": "3d0cc7ba-456f-4a94-aacb-7602e890c92b",
         "x": [
          -115.7094051247729,
          -4566.043982617091
         ],
         "y": [
          "Зеленський",
          "Порошенко"
         ]
        },
        {
         "marker": {
          "color": [
           "rgba(62,194,88,1)",
           "rgba(194,68,62,1)"
          ]
         },
         "orientation": "h",
         "type": "bar",
         "uid": "e4b0a48f-121f-4652-8f26-f12c081e64a9",
         "x": [
          5230508,
          2753136
         ],
         "y": [
          "Зеленський",
          "Порошенко"
         ]
        },
        {
         "marker": {
          "color": [
           "rgba(62,194,88,0.8)",
           "rgba(194,68,62,0.8)"
          ]
         },
         "orientation": "h",
         "type": "bar",
         "uid": "7073b4ef-282f-4464-b670-7bce59f75c6d",
         "x": [
          97840.52251788056,
          30663.47748211946
         ],
         "y": [
          "Зеленський",
          "Порошенко"
         ]
        },
        {
         "marker": {
          "color": [
           "rgba(62,194,88,0.6)",
           "rgba(194,68,62,0.6)"
          ]
         },
         "orientation": "h",
         "type": "bar",
         "uid": "f469d791-c8da-4da9-9b62-f63dcd80b4bc",
         "x": [
          4566.043982617091,
          115.7094051247729
         ],
         "y": [
          "Зеленський",
          "Порошенко"
         ]
        },
        {
         "marker": {
          "color": [
           "rgba(62,194,88,0.6)",
           "rgba(194,68,62,0.6)"
          ]
         },
         "orientation": "h",
         "type": "bar",
         "uid": "cd4c57d5-4e76-46bb-92df-fccc453ff55e",
         "x": [
          7006137.959830439,
          1390732.6207251172
         ],
         "y": [
          "Зеленський",
          "Порошенко"
         ]
        }
       ],
       "layout": {
        "barmode": "stack",
        "showlegend": false,
        "xaxis": {
         "ticktext": [
          "0",
          "2 млн",
          "4 млн",
          "6 млн",
          "8 млн",
          "10 млн"
         ],
         "tickvals": [
          0,
          2000000,
          4000000,
          6000000,
          8000000,
          10000000
         ]
        }
       }
      },
      "text/html": [
       "<div id=\"cf951c2b-6c9e-4e91-b90b-a1832171e733\" style=\"height: 525px; width: 100%;\" class=\"plotly-graph-div\"></div><script type=\"text/javascript\">require([\"plotly\"], function(Plotly) { window.PLOTLYENV=window.PLOTLYENV || {};window.PLOTLYENV.BASE_URL=\"https://plot.ly\";\n",
       "if (document.getElementById(\"cf951c2b-6c9e-4e91-b90b-a1832171e733\")) {\n",
       "    Plotly.newPlot(\"cf951c2b-6c9e-4e91-b90b-a1832171e733\", [{\"marker\": {\"color\": [\"rgba(62,194,88,0)\", \"rgba(194,68,62,0)\"]}, \"orientation\": \"h\", \"x\": [-1313.0, -38482.580555555556], \"y\": [\"\\u0417\\u0435\\u043b\\u0435\\u043d\\u0441\\u044c\\u043a\\u0438\\u0439\", \"\\u041f\\u043e\\u0440\\u043e\\u0448\\u0435\\u043d\\u043a\\u043e\"], \"type\": \"bar\", \"uid\": \"ce750270-bb83-4382-a69b-2ec130a20380\"}, {\"marker\": {\"color\": [\"rgba(62,194,88,0)\", \"rgba(194,68,62,0)\"]}, \"orientation\": \"h\", \"x\": [-115.7094051247729, -4566.043982617091], \"y\": [\"\\u0417\\u0435\\u043b\\u0435\\u043d\\u0441\\u044c\\u043a\\u0438\\u0439\", \"\\u041f\\u043e\\u0440\\u043e\\u0448\\u0435\\u043d\\u043a\\u043e\"], \"type\": \"bar\", \"uid\": \"3d0cc7ba-456f-4a94-aacb-7602e890c92b\"}, {\"marker\": {\"color\": [\"rgba(62,194,88,1)\", \"rgba(194,68,62,1)\"]}, \"orientation\": \"h\", \"x\": [5230508, 2753136], \"y\": [\"\\u0417\\u0435\\u043b\\u0435\\u043d\\u0441\\u044c\\u043a\\u0438\\u0439\", \"\\u041f\\u043e\\u0440\\u043e\\u0448\\u0435\\u043d\\u043a\\u043e\"], \"type\": \"bar\", \"uid\": \"e4b0a48f-121f-4652-8f26-f12c081e64a9\"}, {\"marker\": {\"color\": [\"rgba(62,194,88,0.8)\", \"rgba(194,68,62,0.8)\"]}, \"orientation\": \"h\", \"x\": [97840.52251788056, 30663.47748211946], \"y\": [\"\\u0417\\u0435\\u043b\\u0435\\u043d\\u0441\\u044c\\u043a\\u0438\\u0439\", \"\\u041f\\u043e\\u0440\\u043e\\u0448\\u0435\\u043d\\u043a\\u043e\"], \"type\": \"bar\", \"uid\": \"7073b4ef-282f-4464-b670-7bce59f75c6d\"}, {\"marker\": {\"color\": [\"rgba(62,194,88,0.6)\", \"rgba(194,68,62,0.6)\"]}, \"orientation\": \"h\", \"x\": [4566.043982617091, 115.7094051247729], \"y\": [\"\\u0417\\u0435\\u043b\\u0435\\u043d\\u0441\\u044c\\u043a\\u0438\\u0439\", \"\\u041f\\u043e\\u0440\\u043e\\u0448\\u0435\\u043d\\u043a\\u043e\"], \"type\": \"bar\", \"uid\": \"f469d791-c8da-4da9-9b62-f63dcd80b4bc\"}, {\"marker\": {\"color\": [\"rgba(62,194,88,0.6)\", \"rgba(194,68,62,0.6)\"]}, \"orientation\": \"h\", \"x\": [7006137.959830439, 1390732.6207251172], \"y\": [\"\\u0417\\u0435\\u043b\\u0435\\u043d\\u0441\\u044c\\u043a\\u0438\\u0439\", \"\\u041f\\u043e\\u0440\\u043e\\u0448\\u0435\\u043d\\u043a\\u043e\"], \"type\": \"bar\", \"uid\": \"cd4c57d5-4e76-46bb-92df-fccc453ff55e\"}], {\"barmode\": \"stack\", \"showlegend\": false, \"xaxis\": {\"ticktext\": [\"0\", \"2 \\u043c\\u043b\\u043d\", \"4 \\u043c\\u043b\\u043d\", \"6 \\u043c\\u043b\\u043d\", \"8 \\u043c\\u043b\\u043d\", \"10 \\u043c\\u043b\\u043d\"], \"tickvals\": [0, 2000000, 4000000, 6000000, 8000000, 10000000]}}, {\"showLink\": false, \"linkText\": \"Export to plot.ly\", \"plotlyServerURL\": \"https://plot.ly\"}); \n",
       "}\n",
       "});</script><script type=\"text/javascript\">window.addEventListener(\"resize\", function(){if (document.getElementById(\"cf951c2b-6c9e-4e91-b90b-a1832171e733\")) {window._Plotly.Plots.resize(document.getElementById(\"cf951c2b-6c9e-4e91-b90b-a1832171e733\"));};})</script>"
      ],
      "text/vnd.plotly.v1+html": [
       "<div id=\"cf951c2b-6c9e-4e91-b90b-a1832171e733\" style=\"height: 525px; width: 100%;\" class=\"plotly-graph-div\"></div><script type=\"text/javascript\">require([\"plotly\"], function(Plotly) { window.PLOTLYENV=window.PLOTLYENV || {};window.PLOTLYENV.BASE_URL=\"https://plot.ly\";\n",
       "if (document.getElementById(\"cf951c2b-6c9e-4e91-b90b-a1832171e733\")) {\n",
       "    Plotly.newPlot(\"cf951c2b-6c9e-4e91-b90b-a1832171e733\", [{\"marker\": {\"color\": [\"rgba(62,194,88,0)\", \"rgba(194,68,62,0)\"]}, \"orientation\": \"h\", \"x\": [-1313.0, -38482.580555555556], \"y\": [\"\\u0417\\u0435\\u043b\\u0435\\u043d\\u0441\\u044c\\u043a\\u0438\\u0439\", \"\\u041f\\u043e\\u0440\\u043e\\u0448\\u0435\\u043d\\u043a\\u043e\"], \"type\": \"bar\", \"uid\": \"ce750270-bb83-4382-a69b-2ec130a20380\"}, {\"marker\": {\"color\": [\"rgba(62,194,88,0)\", \"rgba(194,68,62,0)\"]}, \"orientation\": \"h\", \"x\": [-115.7094051247729, -4566.043982617091], \"y\": [\"\\u0417\\u0435\\u043b\\u0435\\u043d\\u0441\\u044c\\u043a\\u0438\\u0439\", \"\\u041f\\u043e\\u0440\\u043e\\u0448\\u0435\\u043d\\u043a\\u043e\"], \"type\": \"bar\", \"uid\": \"3d0cc7ba-456f-4a94-aacb-7602e890c92b\"}, {\"marker\": {\"color\": [\"rgba(62,194,88,1)\", \"rgba(194,68,62,1)\"]}, \"orientation\": \"h\", \"x\": [5230508, 2753136], \"y\": [\"\\u0417\\u0435\\u043b\\u0435\\u043d\\u0441\\u044c\\u043a\\u0438\\u0439\", \"\\u041f\\u043e\\u0440\\u043e\\u0448\\u0435\\u043d\\u043a\\u043e\"], \"type\": \"bar\", \"uid\": \"e4b0a48f-121f-4652-8f26-f12c081e64a9\"}, {\"marker\": {\"color\": [\"rgba(62,194,88,0.8)\", \"rgba(194,68,62,0.8)\"]}, \"orientation\": \"h\", \"x\": [97840.52251788056, 30663.47748211946], \"y\": [\"\\u0417\\u0435\\u043b\\u0435\\u043d\\u0441\\u044c\\u043a\\u0438\\u0439\", \"\\u041f\\u043e\\u0440\\u043e\\u0448\\u0435\\u043d\\u043a\\u043e\"], \"type\": \"bar\", \"uid\": \"7073b4ef-282f-4464-b670-7bce59f75c6d\"}, {\"marker\": {\"color\": [\"rgba(62,194,88,0.6)\", \"rgba(194,68,62,0.6)\"]}, \"orientation\": \"h\", \"x\": [4566.043982617091, 115.7094051247729], \"y\": [\"\\u0417\\u0435\\u043b\\u0435\\u043d\\u0441\\u044c\\u043a\\u0438\\u0439\", \"\\u041f\\u043e\\u0440\\u043e\\u0448\\u0435\\u043d\\u043a\\u043e\"], \"type\": \"bar\", \"uid\": \"f469d791-c8da-4da9-9b62-f63dcd80b4bc\"}, {\"marker\": {\"color\": [\"rgba(62,194,88,0.6)\", \"rgba(194,68,62,0.6)\"]}, \"orientation\": \"h\", \"x\": [7006137.959830439, 1390732.6207251172], \"y\": [\"\\u0417\\u0435\\u043b\\u0435\\u043d\\u0441\\u044c\\u043a\\u0438\\u0439\", \"\\u041f\\u043e\\u0440\\u043e\\u0448\\u0435\\u043d\\u043a\\u043e\"], \"type\": \"bar\", \"uid\": \"cd4c57d5-4e76-46bb-92df-fccc453ff55e\"}], {\"barmode\": \"stack\", \"showlegend\": false, \"xaxis\": {\"ticktext\": [\"0\", \"2 \\u043c\\u043b\\u043d\", \"4 \\u043c\\u043b\\u043d\", \"6 \\u043c\\u043b\\u043d\", \"8 \\u043c\\u043b\\u043d\", \"10 \\u043c\\u043b\\u043d\"], \"tickvals\": [0, 2000000, 4000000, 6000000, 8000000, 10000000]}}, {\"showLink\": false, \"linkText\": \"Export to plot.ly\", \"plotlyServerURL\": \"https://plot.ly\"}); \n",
       "}\n",
       "});</script><script type=\"text/javascript\">window.addEventListener(\"resize\", function(){if (document.getElementById(\"cf951c2b-6c9e-4e91-b90b-a1832171e733\")) {window._Plotly.Plots.resize(document.getElementById(\"cf951c2b-6c9e-4e91-b90b-a1832171e733\"));};})</script>"
      ]
     },
     "metadata": {},
     "output_type": "display_data"
    }
   ],
   "source": [
    "['ЗеленськийВолодимир', 'ПорошенкоПетро',\n",
    "'ЗеленськийВолодимир_stayed_home', 'ПорошенкоПетро_stayed_home',\n",
    "'ЗеленськийВолодимир_outflow', 'ПорошенкоПетро_outflow',\n",
    "'ЗеленськийВолодимир_inflow', 'ПорошенкоПетро_inflow',\n",
    "'ЗеленськийВолодимир_inflow_others','ПорошенкоПетро_inflow_others',\n",
    "'ЗеленськийВолодимир_mobilized', 'ПорошенкоПетро_mobilized']\n",
    "\n",
    "candidates = ['Зеленський','Порошенко']\n",
    "stayed_home = [df_all['ЗеленськийВолодимир_stayed_home'].sum()*(-1),df_all['ПорошенкоПетро_stayed_home'].sum()*(-1)]\n",
    "outflow = [df_all['ЗеленськийВолодимир_outflow'].sum()*(-1),df_all['ПорошенкоПетро_outflow'].sum()*(-1)]\n",
    "base = [df_all['ЗеленськийВолодимир'].sum(),df_all['ПорошенкоПетро'].sum()]\n",
    "mobilization = [df_all['ЗеленськийВолодимир_mobilized'].sum(),df_all['ПорошенкоПетро_mobilized'].sum()]\n",
    "inflow_competitor = [df_all['ЗеленськийВолодимир_inflow'].sum(),df_all['ПорошенкоПетро_inflow'].sum()]\n",
    "inflow_others = [df_all['ЗеленськийВолодимир_inflow_others'].sum(),df_all['ПорошенкоПетро_inflow_others'].sum()]\n",
    "\n",
    "labels_bar = ['0','2 млн','4 млн','6 млн','8 млн','10 млн']\n",
    "tickvals = [0,2*10**6,4*10**6,6*10**6,8*10**6,10*10**6]\n",
    "\n",
    "trace1 = go.Bar(\n",
    "    y=candidates,\n",
    "    x=stayed_home,\n",
    "    orientation = 'h',\n",
    "    marker = dict(\n",
    "        color = ['rgba(62,194,88,0)','rgba(194,68,62,0)']\n",
    "    )\n",
    ")\n",
    "\n",
    "trace2 = go.Bar(\n",
    "    y=candidates,\n",
    "    x=outflow,\n",
    "    orientation = 'h',\n",
    "    marker = dict(\n",
    "        color = ['rgba(62,194,88,0)','rgba(194,68,62,0)']\n",
    "    )\n",
    ")\n",
    "\n",
    "trace3 = go.Bar(\n",
    "    y=candidates,\n",
    "    x=base,\n",
    "    orientation = 'h',\n",
    "    marker = dict(\n",
    "        color = ['rgba(62,194,88,1)','rgba(194,68,62,1)']\n",
    "    )\n",
    ")\n",
    "\n",
    "trace4 = go.Bar(\n",
    "    y=candidates,\n",
    "    x=mobilization,\n",
    "    orientation = 'h',\n",
    "    marker = dict(\n",
    "        color = ['rgba(62,194,88,0.8)','rgba(194,68,62,0.8)']\n",
    "    )\n",
    ")\n",
    "\n",
    "trace5 = go.Bar(\n",
    "    y=candidates,\n",
    "    x=inflow_competitor,\n",
    "    orientation = 'h',\n",
    "    marker = dict(\n",
    "        color = ['rgba(62,194,88,0.6)','rgba(194,68,62,0.6)']\n",
    "    )\n",
    ")\n",
    "\n",
    "trace6 = go.Bar(\n",
    "    y=candidates,\n",
    "    x=inflow_others,\n",
    "    orientation = 'h',\n",
    "    marker = dict(\n",
    "        color = ['rgba(62,194,88,0.6)','rgba(194,68,62,0.6)']\n",
    "    )\n",
    ")\n",
    "\n",
    "data = [trace1, trace2, trace3, trace4, trace5, trace6]\n",
    "layout = go.Layout(\n",
    "    barmode='stack',\n",
    "    showlegend=False,\n",
    "    xaxis=go.layout.XAxis(\n",
    "        ticktext=labels_bar,\n",
    "        tickvals=tickvals\n",
    "    )\n",
    ")\n",
    "\n",
    "fig = go.Figure(data=data, layout=layout)\n",
    "#py.iplot(fig)\n",
    "iplot(fig)"
   ]
  }
 ],
 "metadata": {
  "kernelspec": {
   "display_name": "Python 3",
   "language": "python",
   "name": "python3"
  },
  "language_info": {
   "codemirror_mode": {
    "name": "ipython",
    "version": 3
   },
   "file_extension": ".py",
   "mimetype": "text/x-python",
   "name": "python",
   "nbconvert_exporter": "python",
   "pygments_lexer": "ipython3",
   "version": "3.7.1"
  }
 },
 "nbformat": 4,
 "nbformat_minor": 2
}
