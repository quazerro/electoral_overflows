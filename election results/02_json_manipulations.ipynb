{
 "cells": [
  {
   "cell_type": "code",
   "execution_count": 1,
   "metadata": {},
   "outputs": [],
   "source": [
    "import json\n",
    "import os\n",
    "import pandas as pd\n",
    "import numpy as np\n",
    "\n",
    "from tqdm import tqdm_notebook"
   ]
  },
  {
   "cell_type": "code",
   "execution_count": 18,
   "metadata": {},
   "outputs": [
    {
     "data": {
      "application/vnd.jupyter.widget-view+json": {
       "model_id": "5fa569c0a3814bbdacd1335ef5679451",
       "version_major": 2,
       "version_minor": 0
      },
      "text/plain": [
       "HBox(children=(IntProgress(value=0, max=27), HTML(value='')))"
      ]
     },
     "metadata": {},
     "output_type": "display_data"
    },
    {
     "name": "stdout",
     "output_type": "stream",
     "text": [
      "\n"
     ]
    },
    {
     "data": {
      "text/plain": [
       "225"
      ]
     },
     "execution_count": 18,
     "metadata": {},
     "output_type": "execute_result"
    }
   ],
   "source": [
    "files = os.listdir('tvk')\n",
    "first = True\n",
    "\n",
    "for file in tqdm_notebook(files):\n",
    "    with open(os.path.join('tvk',file),'r', encoding=\"utf8\") as cur_file:\n",
    "        parsed_file = json.load(cur_file)\n",
    "        if first:\n",
    "            tvos_all = parsed_file\n",
    "            first = False\n",
    "        else:\n",
    "            tvos_all['features'] = tvos_all['features'] + parsed_file['features']\n",
    "            \n",
    "len(tvos_all['features'])"
   ]
  },
  {
   "cell_type": "code",
   "execution_count": 3,
   "metadata": {},
   "outputs": [],
   "source": [
    "dtype_dic = {'district_number': str}\n",
    "df_results = pd.read_csv('00_data/elections_round2_sim_v6.csv',dtype=dtype_dic)"
   ]
  },
  {
   "cell_type": "code",
   "execution_count": 16,
   "metadata": {},
   "outputs": [
    {
     "name": "stdout",
     "output_type": "stream",
     "text": [
      "(200, 11)\n"
     ]
    },
    {
     "data": {
      "text/html": [
       "<div>\n",
       "<style scoped>\n",
       "    .dataframe tbody tr th:only-of-type {\n",
       "        vertical-align: middle;\n",
       "    }\n",
       "\n",
       "    .dataframe tbody tr th {\n",
       "        vertical-align: top;\n",
       "    }\n",
       "\n",
       "    .dataframe thead th {\n",
       "        text-align: right;\n",
       "    }\n",
       "</style>\n",
       "<table border=\"1\" class=\"dataframe\">\n",
       "  <thead>\n",
       "    <tr style=\"text-align: right;\">\n",
       "      <th></th>\n",
       "      <th>2.К-сть виборців, внесених до списку</th>\n",
       "      <th>participation_absolute_round1</th>\n",
       "      <th>participation_absolute_round2</th>\n",
       "      <th>ЗеленськийВолодимир_round1</th>\n",
       "      <th>ПорошенкоПетро_round1</th>\n",
       "      <th>ЗеленськийВолодимир</th>\n",
       "      <th>ПорошенкоПетро</th>\n",
       "      <th>participation_diff</th>\n",
       "      <th>winner</th>\n",
       "      <th>zel_growth</th>\n",
       "      <th>por_growth</th>\n",
       "    </tr>\n",
       "    <tr>\n",
       "      <th>district_gen_numeric</th>\n",
       "      <th></th>\n",
       "      <th></th>\n",
       "      <th></th>\n",
       "      <th></th>\n",
       "      <th></th>\n",
       "      <th></th>\n",
       "      <th></th>\n",
       "      <th></th>\n",
       "      <th></th>\n",
       "      <th></th>\n",
       "      <th></th>\n",
       "    </tr>\n",
       "  </thead>\n",
       "  <tbody>\n",
       "    <tr>\n",
       "      <th>11</th>\n",
       "      <td>169689</td>\n",
       "      <td>115238.0</td>\n",
       "      <td>113211.243534</td>\n",
       "      <td>26398</td>\n",
       "      <td>33083</td>\n",
       "      <td>63840</td>\n",
       "      <td>49374</td>\n",
       "      <td>-0.011944</td>\n",
       "      <td>zel</td>\n",
       "      <td>0.220651</td>\n",
       "      <td>0.096005</td>\n",
       "    </tr>\n",
       "    <tr>\n",
       "      <th>12</th>\n",
       "      <td>177815</td>\n",
       "      <td>115722.0</td>\n",
       "      <td>114846.839503</td>\n",
       "      <td>28535</td>\n",
       "      <td>31819</td>\n",
       "      <td>62401</td>\n",
       "      <td>52440</td>\n",
       "      <td>-0.004922</td>\n",
       "      <td>zel</td>\n",
       "      <td>0.190456</td>\n",
       "      <td>0.115969</td>\n",
       "    </tr>\n",
       "    <tr>\n",
       "      <th>13</th>\n",
       "      <td>145583</td>\n",
       "      <td>95116.0</td>\n",
       "      <td>93348.125547</td>\n",
       "      <td>22164</td>\n",
       "      <td>20460</td>\n",
       "      <td>51149</td>\n",
       "      <td>42199</td>\n",
       "      <td>-0.012143</td>\n",
       "      <td>zel</td>\n",
       "      <td>0.199096</td>\n",
       "      <td>0.149324</td>\n",
       "    </tr>\n",
       "    <tr>\n",
       "      <th>14</th>\n",
       "      <td>159494</td>\n",
       "      <td>102258.0</td>\n",
       "      <td>101666.824533</td>\n",
       "      <td>24356</td>\n",
       "      <td>23232</td>\n",
       "      <td>54497</td>\n",
       "      <td>47171</td>\n",
       "      <td>-0.003707</td>\n",
       "      <td>zel</td>\n",
       "      <td>0.188979</td>\n",
       "      <td>0.150093</td>\n",
       "    </tr>\n",
       "    <tr>\n",
       "      <th>15</th>\n",
       "      <td>148528</td>\n",
       "      <td>93001.0</td>\n",
       "      <td>92313.772869</td>\n",
       "      <td>21896</td>\n",
       "      <td>18318</td>\n",
       "      <td>50707</td>\n",
       "      <td>41606</td>\n",
       "      <td>-0.004627</td>\n",
       "      <td>zel</td>\n",
       "      <td>0.193977</td>\n",
       "      <td>0.156792</td>\n",
       "    </tr>\n",
       "  </tbody>\n",
       "</table>\n",
       "</div>"
      ],
      "text/plain": [
       "                      2.К-сть виборців, внесених до списку  \\\n",
       "district_gen_numeric                                         \n",
       "11                                                  169689   \n",
       "12                                                  177815   \n",
       "13                                                  145583   \n",
       "14                                                  159494   \n",
       "15                                                  148528   \n",
       "\n",
       "                      participation_absolute_round1  \\\n",
       "district_gen_numeric                                  \n",
       "11                                         115238.0   \n",
       "12                                         115722.0   \n",
       "13                                          95116.0   \n",
       "14                                         102258.0   \n",
       "15                                          93001.0   \n",
       "\n",
       "                      participation_absolute_round2  \\\n",
       "district_gen_numeric                                  \n",
       "11                                    113211.243534   \n",
       "12                                    114846.839503   \n",
       "13                                     93348.125547   \n",
       "14                                    101666.824533   \n",
       "15                                     92313.772869   \n",
       "\n",
       "                      ЗеленськийВолодимир_round1  ПорошенкоПетро_round1  \\\n",
       "district_gen_numeric                                                      \n",
       "11                                         26398                  33083   \n",
       "12                                         28535                  31819   \n",
       "13                                         22164                  20460   \n",
       "14                                         24356                  23232   \n",
       "15                                         21896                  18318   \n",
       "\n",
       "                      ЗеленськийВолодимир  ПорошенкоПетро  participation_diff  \\\n",
       "district_gen_numeric                                                            \n",
       "11                                  63840           49374           -0.011944   \n",
       "12                                  62401           52440           -0.004922   \n",
       "13                                  51149           42199           -0.012143   \n",
       "14                                  54497           47171           -0.003707   \n",
       "15                                  50707           41606           -0.004627   \n",
       "\n",
       "                     winner  zel_growth  por_growth  \n",
       "district_gen_numeric                                 \n",
       "11                      zel    0.220651    0.096005  \n",
       "12                      zel    0.190456    0.115969  \n",
       "13                      zel    0.199096    0.149324  \n",
       "14                      zel    0.188979    0.150093  \n",
       "15                      zel    0.193977    0.156792  "
      ]
     },
     "execution_count": 16,
     "metadata": {},
     "output_type": "execute_result"
    }
   ],
   "source": [
    "df_results['participation_absolute_round1'] = df_results['2.К-сть виборців, внесених до списку']*df_results['participation_round1']\n",
    "df_results['participation_absolute_round2'] = df_results['2.К-сть виборців, внесених до списку']*df_results['participation_round2']\n",
    "df_results_tvo = df_results.groupby('district_gen_numeric')[['2.К-сть виборців, внесених до списку',\n",
    "                                                             'participation_absolute_round1',\n",
    "                                                             'participation_absolute_round2',\n",
    "                                                             'ЗеленськийВолодимир_round1',\n",
    "                                                             'ПорошенкоПетро_round1',\n",
    "                                                             'ЗеленськийВолодимир',\n",
    "                                                             'ПорошенкоПетро']].sum()\n",
    "df_results_tvo['participation_diff'] = (df_results_tvo['participation_absolute_round2']-df_results_tvo['participation_absolute_round1'])/df_results_tvo['2.К-сть виборців, внесених до списку']\n",
    "df_results_tvo['winner'] = (df_results_tvo['ЗеленськийВолодимир'] - df_results_tvo['ПорошенкоПетро']).map(lambda x: 'zel' if x>0 else 'por')\n",
    "df_results_tvo['zel_growth'] = (df_results_tvo['ЗеленськийВолодимир'] - df_results_tvo['ЗеленськийВолодимир_round1'])/df_results_tvo['2.К-сть виборців, внесених до списку']\n",
    "df_results_tvo['por_growth'] = (df_results_tvo['ПорошенкоПетро'] - df_results_tvo['ПорошенкоПетро_round1'])/df_results_tvo['2.К-сть виборців, внесених до списку']\n",
    "\n",
    "print(df_results_tvo.shape)\n",
    "df_results_tvo.head()"
   ]
  },
  {
   "cell_type": "code",
   "execution_count": 19,
   "metadata": {},
   "outputs": [
    {
     "data": {
      "application/vnd.jupyter.widget-view+json": {
       "model_id": "50f58f870635416b9ada03a056a065a7",
       "version_major": 2,
       "version_minor": 0
      },
      "text/plain": [
       "HBox(children=(IntProgress(value=0, max=225), HTML(value='')))"
      ]
     },
     "metadata": {},
     "output_type": "display_data"
    },
    {
     "name": "stdout",
     "output_type": "stream",
     "text": [
      "\n"
     ]
    },
    {
     "data": {
      "text/plain": [
       "225"
      ]
     },
     "execution_count": 19,
     "metadata": {},
     "output_type": "execute_result"
    }
   ],
   "source": [
    "for feature in tqdm_notebook(tvos_all['features']):\n",
    "    if int(feature['properties']['id']) in df_results_tvo.index:\n",
    "        feature['properties']['participation_diff'] = df_results_tvo.loc[int(feature['properties']['id'])]['participation_diff']\n",
    "        feature['properties']['zel_growth'] = df_results_tvo.loc[int(feature['properties']['id'])]['zel_growth']\n",
    "        feature['properties']['por_growth'] = df_results_tvo.loc[int(feature['properties']['id'])]['por_growth']\n",
    "        feature['properties']['winner'] = df_results_tvo.loc[int(feature['properties']['id'])]['winner']\n",
    "    else:\n",
    "        feature['properties']['participation_diff'] = 9999\n",
    "        feature['properties']['zel_growth'] = 9999\n",
    "        feature['properties']['por_growth'] = 9999\n",
    "        feature['properties']['winner'] = 'no_vote'\n",
    "\n",
    "len(tvos_all['features'])"
   ]
  },
  {
   "cell_type": "code",
   "execution_count": 20,
   "metadata": {},
   "outputs": [],
   "source": [
    "with open('01_map/tvos_all_v4.json','w', encoding=\"utf8\") as output:\n",
    "    json.dump(tvos_all,output,ensure_ascii=False)"
   ]
  },
  {
   "cell_type": "code",
   "execution_count": 84,
   "metadata": {},
   "outputs": [],
   "source": [
    "with open('newElectionData.json','r',encoding=\"utf8\") as file:\n",
    "    districts_all = json.load(file)"
   ]
  },
  {
   "cell_type": "code",
   "execution_count": 118,
   "metadata": {},
   "outputs": [
    {
     "data": {
      "application/vnd.jupyter.widget-view+json": {
       "model_id": "cbcce8a3da664ae8b4904d5cb4d1e14a",
       "version_major": 2,
       "version_minor": 0
      },
      "text/plain": [
       "HBox(children=(IntProgress(value=0, max=32441), HTML(value='')))"
      ]
     },
     "metadata": {},
     "output_type": "display_data"
    },
    {
     "name": "stdout",
     "output_type": "stream",
     "text": [
      "\n"
     ]
    }
   ],
   "source": [
    "district = districts_all['objects']['-']['geometries'][1300]\n",
    "\n",
    "for district in tqdm_notebook(districts_all['objects']['-']['geometries']):\n",
    "    if district['properties']['d'] in list(df_results['district_number']):\n",
    "        district['properties']['participation_diff'] = df_results.loc[df_results['district_number']==district['properties']['d']].reset_index()['participation_delta'][0]\n",
    "    else:\n",
    "        district['properties']['participation_diff'] = 9999"
   ]
  },
  {
   "cell_type": "code",
   "execution_count": 126,
   "metadata": {},
   "outputs": [],
   "source": [
    "with open('newElectionData_v2.json','w',encoding=\"utf8\") as file:\n",
    "    json.dump(districts_all,file,ensure_ascii=False)"
   ]
  }
 ],
 "metadata": {
  "kernelspec": {
   "display_name": "Python 3",
   "language": "python",
   "name": "python3"
  },
  "language_info": {
   "codemirror_mode": {
    "name": "ipython",
    "version": 3
   },
   "file_extension": ".py",
   "mimetype": "text/x-python",
   "name": "python",
   "nbconvert_exporter": "python",
   "pygments_lexer": "ipython3",
   "version": "3.7.1"
  }
 },
 "nbformat": 4,
 "nbformat_minor": 2
}
