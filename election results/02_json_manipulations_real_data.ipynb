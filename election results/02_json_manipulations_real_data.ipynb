{
 "cells": [
  {
   "cell_type": "code",
   "execution_count": 1,
   "metadata": {},
   "outputs": [],
   "source": [
    "import json\n",
    "import os\n",
    "import pandas as pd\n",
    "import numpy as np\n",
    "\n",
    "from tqdm import tqdm_notebook"
   ]
  },
  {
   "cell_type": "code",
   "execution_count": 8,
   "metadata": {},
   "outputs": [
    {
     "data": {
      "application/vnd.jupyter.widget-view+json": {
       "model_id": "03fa5307ea744a8c8e13b225885a25a2",
       "version_major": 2,
       "version_minor": 0
      },
      "text/plain": [
       "HBox(children=(IntProgress(value=0, max=27), HTML(value='')))"
      ]
     },
     "metadata": {},
     "output_type": "display_data"
    },
    {
     "name": "stdout",
     "output_type": "stream",
     "text": [
      "\n"
     ]
    },
    {
     "data": {
      "text/plain": [
       "225"
      ]
     },
     "execution_count": 8,
     "metadata": {},
     "output_type": "execute_result"
    }
   ],
   "source": [
    "files = os.listdir('tvk')\n",
    "first = True\n",
    "\n",
    "for file in tqdm_notebook(files):\n",
    "    with open(os.path.join('tvk',file),'r', encoding=\"utf8\") as cur_file:\n",
    "        parsed_file = json.load(cur_file)\n",
    "        if first:\n",
    "            tvos_all = parsed_file\n",
    "            first = False\n",
    "        else:\n",
    "            tvos_all['features'] = tvos_all['features'] + parsed_file['features']\n",
    "            \n",
    "len(tvos_all['features'])"
   ]
  },
  {
   "cell_type": "code",
   "execution_count": 9,
   "metadata": {},
   "outputs": [
    {
     "data": {
      "text/plain": [
       "(29608, 68)"
      ]
     },
     "execution_count": 9,
     "metadata": {},
     "output_type": "execute_result"
    }
   ],
   "source": [
    "dtype_dic = {'district_number': str}\n",
    "df_results = pd.read_csv('00_data/elections_round2_all_v2.csv',dtype=dtype_dic)\n",
    "df_results.shape"
   ]
  },
  {
   "cell_type": "code",
   "execution_count": 10,
   "metadata": {},
   "outputs": [
    {
     "data": {
      "text/plain": [
       "Index(['district_number', 'district_gen_numeric', 'district_general',\n",
       "       'district_location', '1.К-сть одержаних бюлетенів',\n",
       "       '2.К-сть виборців, внесених до списку_x',\n",
       "       '3.К-сть виборців, внесених до витягу для голос. за місцем перебув.',\n",
       "       '4.К-сть невикор. бюлетенів',\n",
       "       '5.К-сть виборців, які отримали бюлетені у приміщ.',\n",
       "       '6.К-сть виборців, які отримали бюлетені за місцем перебув.',\n",
       "       '7.Загальна к-сть виборців, які отримали бюлетені',\n",
       "       '8.К-сть бюлетенів, що не підлягають врахуванню',\n",
       "       '9.К-сть виборців, які взяли участь у голосуванні',\n",
       "       '10.К-сть бюлетенів, визнаних недійсними', 'ЗеленськийВолодимир_round2',\n",
       "       'ПорошенкоПетро_round2', 'Дата та час протоколу',\n",
       "       '2.К-сть виборців, внесених до списку', 'reg_voters_change',\n",
       "       'reg_voters_change_abs', 'participation_round2', 'participation_round1',\n",
       "       'ЗеленськийВолодимир', 'ПорошенкоПетро', 'БойкоЮрій', 'ВілкулОлександр',\n",
       "       'ГриценкоАнатолій', 'ЛяшкоОлег', 'СмешкоІгор', 'ТимошенкоЮлія',\n",
       "       'other_cands', 'pool_round1', 'stayed_home', 'mobilized',\n",
       "       'voted_round1', 'voted_round2', 'ЗеленськийВолодимир_stayed_home',\n",
       "       'ПорошенкоПетро_stayed_home', 'stayed_home_others',\n",
       "       'БойкоЮрій_stayed_home', 'ВілкулОлександр_stayed_home',\n",
       "       'ГриценкоАнатолій_stayed_home', 'ЛяшкоОлег_stayed_home',\n",
       "       'СмешкоІгор_stayed_home', 'ТимошенкоЮлія_stayed_home',\n",
       "       'other_cands_stayed_home', 'ЗеленськийВолодимир_mobilized',\n",
       "       'ПорошенкоПетро_mobilized', 'ЗеленськийВолодимир_outflow',\n",
       "       'ПорошенкоПетро_outflow', 'ЗеленськийВолодимир_inflow',\n",
       "       'ПорошенкоПетро_inflow', 'ЗеленськийВолодимир_inflow_others',\n",
       "       'ЗеленськийВолодимир_inflow_БойкоЮрій',\n",
       "       'ЗеленськийВолодимир_inflow_ВілкулОлександр',\n",
       "       'ЗеленськийВолодимир_inflow_ГриценкоАнатолій',\n",
       "       'ЗеленськийВолодимир_inflow_ЛяшкоОлег',\n",
       "       'ЗеленськийВолодимир_inflow_СмешкоІгор',\n",
       "       'ЗеленськийВолодимир_inflow_ТимошенкоЮлія',\n",
       "       'ЗеленськийВолодимир_inflow_other_cands',\n",
       "       'ПорошенкоПетро_inflow_others', 'ПорошенкоПетро_inflow_БойкоЮрій',\n",
       "       'ПорошенкоПетро_inflow_ВілкулОлександр',\n",
       "       'ПорошенкоПетро_inflow_ГриценкоАнатолій',\n",
       "       'ПорошенкоПетро_inflow_ЛяшкоОлег', 'ПорошенкоПетро_inflow_СмешкоІгор',\n",
       "       'ПорошенкоПетро_inflow_ТимошенкоЮлія',\n",
       "       'ПорошенкоПетро_inflow_other_cands'],\n",
       "      dtype='object')"
      ]
     },
     "execution_count": 10,
     "metadata": {},
     "output_type": "execute_result"
    }
   ],
   "source": [
    "df_results.columns"
   ]
  },
  {
   "cell_type": "code",
   "execution_count": 11,
   "metadata": {},
   "outputs": [
    {
     "name": "stdout",
     "output_type": "stream",
     "text": [
      "(200, 11)\n"
     ]
    },
    {
     "data": {
      "text/html": [
       "<div>\n",
       "<style scoped>\n",
       "    .dataframe tbody tr th:only-of-type {\n",
       "        vertical-align: middle;\n",
       "    }\n",
       "\n",
       "    .dataframe tbody tr th {\n",
       "        vertical-align: top;\n",
       "    }\n",
       "\n",
       "    .dataframe thead th {\n",
       "        text-align: right;\n",
       "    }\n",
       "</style>\n",
       "<table border=\"1\" class=\"dataframe\">\n",
       "  <thead>\n",
       "    <tr style=\"text-align: right;\">\n",
       "      <th></th>\n",
       "      <th>2.К-сть виборців, внесених до списку</th>\n",
       "      <th>participation_absolute_round1</th>\n",
       "      <th>participation_absolute_round2</th>\n",
       "      <th>ЗеленськийВолодимир</th>\n",
       "      <th>ПорошенкоПетро</th>\n",
       "      <th>ЗеленськийВолодимир_round2</th>\n",
       "      <th>ПорошенкоПетро_round2</th>\n",
       "      <th>participation_diff</th>\n",
       "      <th>winner</th>\n",
       "      <th>zel_growth</th>\n",
       "      <th>por_growth</th>\n",
       "    </tr>\n",
       "    <tr>\n",
       "      <th>district_gen_numeric</th>\n",
       "      <th></th>\n",
       "      <th></th>\n",
       "      <th></th>\n",
       "      <th></th>\n",
       "      <th></th>\n",
       "      <th></th>\n",
       "      <th></th>\n",
       "      <th></th>\n",
       "      <th></th>\n",
       "      <th></th>\n",
       "      <th></th>\n",
       "    </tr>\n",
       "  </thead>\n",
       "  <tbody>\n",
       "    <tr>\n",
       "      <th>11</th>\n",
       "      <td>163874</td>\n",
       "      <td>111260.0</td>\n",
       "      <td>105176.0</td>\n",
       "      <td>25515</td>\n",
       "      <td>31879</td>\n",
       "      <td>60318.711895</td>\n",
       "      <td>44857.288105</td>\n",
       "      <td>-0.037126</td>\n",
       "      <td>zel</td>\n",
       "      <td>0.212381</td>\n",
       "      <td>0.079197</td>\n",
       "    </tr>\n",
       "    <tr>\n",
       "      <th>12</th>\n",
       "      <td>174795</td>\n",
       "      <td>113698.0</td>\n",
       "      <td>107943.0</td>\n",
       "      <td>28056</td>\n",
       "      <td>31292</td>\n",
       "      <td>63104.810376</td>\n",
       "      <td>44838.189624</td>\n",
       "      <td>-0.032924</td>\n",
       "      <td>zel</td>\n",
       "      <td>0.200514</td>\n",
       "      <td>0.077498</td>\n",
       "    </tr>\n",
       "    <tr>\n",
       "      <th>13</th>\n",
       "      <td>145532</td>\n",
       "      <td>95070.0</td>\n",
       "      <td>90401.0</td>\n",
       "      <td>22149</td>\n",
       "      <td>20453</td>\n",
       "      <td>58151.268775</td>\n",
       "      <td>32249.731225</td>\n",
       "      <td>-0.032082</td>\n",
       "      <td>zel</td>\n",
       "      <td>0.247384</td>\n",
       "      <td>0.081059</td>\n",
       "    </tr>\n",
       "    <tr>\n",
       "      <th>14</th>\n",
       "      <td>159494</td>\n",
       "      <td>102258.0</td>\n",
       "      <td>98082.0</td>\n",
       "      <td>24356</td>\n",
       "      <td>23232</td>\n",
       "      <td>63434.103448</td>\n",
       "      <td>34647.896552</td>\n",
       "      <td>-0.026183</td>\n",
       "      <td>zel</td>\n",
       "      <td>0.245013</td>\n",
       "      <td>0.071576</td>\n",
       "    </tr>\n",
       "    <tr>\n",
       "      <th>15</th>\n",
       "      <td>148528</td>\n",
       "      <td>93001.0</td>\n",
       "      <td>88213.0</td>\n",
       "      <td>21896</td>\n",
       "      <td>18318</td>\n",
       "      <td>60228.000000</td>\n",
       "      <td>27985.000000</td>\n",
       "      <td>-0.032236</td>\n",
       "      <td>zel</td>\n",
       "      <td>0.258079</td>\n",
       "      <td>0.065085</td>\n",
       "    </tr>\n",
       "  </tbody>\n",
       "</table>\n",
       "</div>"
      ],
      "text/plain": [
       "                      2.К-сть виборців, внесених до списку  \\\n",
       "district_gen_numeric                                         \n",
       "11                                                  163874   \n",
       "12                                                  174795   \n",
       "13                                                  145532   \n",
       "14                                                  159494   \n",
       "15                                                  148528   \n",
       "\n",
       "                      participation_absolute_round1  \\\n",
       "district_gen_numeric                                  \n",
       "11                                         111260.0   \n",
       "12                                         113698.0   \n",
       "13                                          95070.0   \n",
       "14                                         102258.0   \n",
       "15                                          93001.0   \n",
       "\n",
       "                      participation_absolute_round2  ЗеленськийВолодимир  \\\n",
       "district_gen_numeric                                                       \n",
       "11                                         105176.0                25515   \n",
       "12                                         107943.0                28056   \n",
       "13                                          90401.0                22149   \n",
       "14                                          98082.0                24356   \n",
       "15                                          88213.0                21896   \n",
       "\n",
       "                      ПорошенкоПетро  ЗеленськийВолодимир_round2  \\\n",
       "district_gen_numeric                                               \n",
       "11                             31879                60318.711895   \n",
       "12                             31292                63104.810376   \n",
       "13                             20453                58151.268775   \n",
       "14                             23232                63434.103448   \n",
       "15                             18318                60228.000000   \n",
       "\n",
       "                      ПорошенкоПетро_round2  participation_diff winner  \\\n",
       "district_gen_numeric                                                     \n",
       "11                             44857.288105           -0.037126    zel   \n",
       "12                             44838.189624           -0.032924    zel   \n",
       "13                             32249.731225           -0.032082    zel   \n",
       "14                             34647.896552           -0.026183    zel   \n",
       "15                             27985.000000           -0.032236    zel   \n",
       "\n",
       "                      zel_growth  por_growth  \n",
       "district_gen_numeric                          \n",
       "11                      0.212381    0.079197  \n",
       "12                      0.200514    0.077498  \n",
       "13                      0.247384    0.081059  \n",
       "14                      0.245013    0.071576  \n",
       "15                      0.258079    0.065085  "
      ]
     },
     "execution_count": 11,
     "metadata": {},
     "output_type": "execute_result"
    }
   ],
   "source": [
    "df_results['participation_absolute_round1'] = df_results['2.К-сть виборців, внесених до списку']*df_results['participation_round1']\n",
    "df_results['participation_absolute_round2'] = df_results['2.К-сть виборців, внесених до списку']*df_results['participation_round2']\n",
    "df_results_tvo = df_results.groupby('district_gen_numeric')[['2.К-сть виборців, внесених до списку',\n",
    "                                                             'participation_absolute_round1',\n",
    "                                                             'participation_absolute_round2',\n",
    "                                                             'ЗеленськийВолодимир',\n",
    "                                                             'ПорошенкоПетро',\n",
    "                                                             'ЗеленськийВолодимир_round2',\n",
    "                                                             'ПорошенкоПетро_round2']].sum()\n",
    "df_results_tvo['participation_diff'] = (df_results_tvo['participation_absolute_round2']-df_results_tvo['participation_absolute_round1'])/df_results_tvo['2.К-сть виборців, внесених до списку']\n",
    "df_results_tvo['winner'] = (df_results_tvo['ЗеленськийВолодимир_round2'] - df_results_tvo['ПорошенкоПетро_round2']).map(lambda x: 'zel' if x>0 else 'por')\n",
    "df_results_tvo['zel_growth'] = (df_results_tvo['ЗеленськийВолодимир_round2'] - df_results_tvo['ЗеленськийВолодимир'])/df_results_tvo['2.К-сть виборців, внесених до списку']\n",
    "df_results_tvo['por_growth'] = (df_results_tvo['ПорошенкоПетро_round2'] - df_results_tvo['ПорошенкоПетро'])/df_results_tvo['2.К-сть виборців, внесених до списку']\n",
    "\n",
    "print(df_results_tvo.shape)\n",
    "df_results_tvo.head()"
   ]
  },
  {
   "cell_type": "code",
   "execution_count": 12,
   "metadata": {},
   "outputs": [
    {
     "data": {
      "application/vnd.jupyter.widget-view+json": {
       "model_id": "0f1ae2d283b6432da3654e8803ee4778",
       "version_major": 2,
       "version_minor": 0
      },
      "text/plain": [
       "HBox(children=(IntProgress(value=0, max=225), HTML(value='')))"
      ]
     },
     "metadata": {},
     "output_type": "display_data"
    },
    {
     "name": "stdout",
     "output_type": "stream",
     "text": [
      "\n"
     ]
    },
    {
     "data": {
      "text/plain": [
       "225"
      ]
     },
     "execution_count": 12,
     "metadata": {},
     "output_type": "execute_result"
    }
   ],
   "source": [
    "for feature in tqdm_notebook(tvos_all['features']):\n",
    "    if int(feature['properties']['id']) in df_results_tvo.index:\n",
    "        feature['properties']['participation_diff'] = df_results_tvo.loc[int(feature['properties']['id'])]['participation_diff']\n",
    "        feature['properties']['zel_growth'] = df_results_tvo.loc[int(feature['properties']['id'])]['zel_growth']\n",
    "        feature['properties']['por_growth'] = df_results_tvo.loc[int(feature['properties']['id'])]['por_growth']\n",
    "        feature['properties']['winner'] = df_results_tvo.loc[int(feature['properties']['id'])]['winner']\n",
    "    else:\n",
    "        feature['properties']['participation_diff'] = 9999\n",
    "        feature['properties']['zel_growth'] = 9999\n",
    "        feature['properties']['por_growth'] = 9999\n",
    "        feature['properties']['winner'] = 'no_vote'\n",
    "\n",
    "len(tvos_all['features'])"
   ]
  },
  {
   "cell_type": "code",
   "execution_count": 13,
   "metadata": {},
   "outputs": [],
   "source": [
    "with open('01_map/tvos_all_v6.json','w', encoding=\"utf8\") as output:\n",
    "    json.dump(tvos_all,output,ensure_ascii=False)"
   ]
  },
  {
   "cell_type": "code",
   "execution_count": 84,
   "metadata": {},
   "outputs": [],
   "source": [
    "with open('newElectionData.json','r',encoding=\"utf8\") as file:\n",
    "    districts_all = json.load(file)"
   ]
  },
  {
   "cell_type": "code",
   "execution_count": 118,
   "metadata": {},
   "outputs": [
    {
     "data": {
      "application/vnd.jupyter.widget-view+json": {
       "model_id": "cbcce8a3da664ae8b4904d5cb4d1e14a",
       "version_major": 2,
       "version_minor": 0
      },
      "text/plain": [
       "HBox(children=(IntProgress(value=0, max=32441), HTML(value='')))"
      ]
     },
     "metadata": {},
     "output_type": "display_data"
    },
    {
     "name": "stdout",
     "output_type": "stream",
     "text": [
      "\n"
     ]
    }
   ],
   "source": [
    "district = districts_all['objects']['-']['geometries'][1300]\n",
    "\n",
    "for district in tqdm_notebook(districts_all['objects']['-']['geometries']):\n",
    "    if district['properties']['d'] in list(df_results['district_number']):\n",
    "        district['properties']['participation_diff'] = df_results.loc[df_results['district_number']==district['properties']['d']].reset_index()['participation_delta'][0]\n",
    "    else:\n",
    "        district['properties']['participation_diff'] = 9999"
   ]
  },
  {
   "cell_type": "code",
   "execution_count": 126,
   "metadata": {},
   "outputs": [],
   "source": [
    "with open('newElectionData_v2.json','w',encoding=\"utf8\") as file:\n",
    "    json.dump(districts_all,file,ensure_ascii=False)"
   ]
  }
 ],
 "metadata": {
  "kernelspec": {
   "display_name": "Python 3",
   "language": "python",
   "name": "python3"
  },
  "language_info": {
   "codemirror_mode": {
    "name": "ipython",
    "version": 3
   },
   "file_extension": ".py",
   "mimetype": "text/x-python",
   "name": "python",
   "nbconvert_exporter": "python",
   "pygments_lexer": "ipython3",
   "version": "3.7.1"
  }
 },
 "nbformat": 4,
 "nbformat_minor": 2
}
